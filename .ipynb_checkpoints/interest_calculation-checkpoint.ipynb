{
 "cells": [
  {
   "cell_type": "code",
   "execution_count": 97,
   "id": "e3840c5c",
   "metadata": {},
   "outputs": [],
   "source": [
    "import json\n",
    "from datetime import datetime, timedelta"
   ]
  },
  {
   "cell_type": "markdown",
   "id": "6cdc2aa4",
   "metadata": {},
   "source": [
    "Let's say we have lines with the payment date and the debt of the loan"
   ]
  },
  {
   "cell_type": "code",
   "execution_count": 111,
   "id": "8fb8de70",
   "metadata": {},
   "outputs": [],
   "source": [
    "loan = [{'paymentDate': '10.01.2021', 'loanDebt': 100000}, \n",
    "        {'paymentDate': '10.02.2021', 'loanDebt': 95000},\n",
    "        {'paymentDate': '10.03.2021', 'loanDebt': 90000},\n",
    "        {'paymentDate': '10.04.2021', 'loanDebt': 85000},\n",
    "        {'paymentDate': '10.05.2021', 'loanDebt': 80000},\n",
    "        {'paymentDate': '10.06.2021', 'loanDebt': 75000},\n",
    "        {'paymentDate': '10.07.2021', 'loanDebt': 70000},\n",
    "        {'paymentDate': '10.08.2021', 'loanDebt': 65000}\n",
    "       ]"
   ]
  },
  {
   "cell_type": "markdown",
   "id": "75ce961a",
   "metadata": {},
   "source": [
    "let's write this example to a json file"
   ]
  },
  {
   "cell_type": "code",
   "execution_count": 112,
   "id": "ab5b8344",
   "metadata": {},
   "outputs": [],
   "source": [
    "with open(\"loan_parameters.json\", \"w\") as write_file:\n",
    "    write_file.write(json.dumps(loan))"
   ]
  },
  {
   "cell_type": "markdown",
   "id": "eb7e204f",
   "metadata": {},
   "source": [
    "let's write a function for calculating cumulative interest paid on loan"
   ]
  },
  {
   "cell_type": "code",
   "execution_count": 113,
   "id": "fcf9ed5c",
   "metadata": {},
   "outputs": [],
   "source": [
    "def interest_calculation(path, percent, start, end):\n",
    "    \"\"\"\n",
    "    The function calculates cumulative interest paid on the loan for the specific period\n",
    "    \n",
    "    path - path to the file whith loan information\n",
    "    percent - annual interest on the loan\n",
    "    start - the beginning of the period\n",
    "    end - the ehd of the period\n",
    "    \"\"\"\n",
    "    \n",
    "    \n",
    "    with open(path) as f:\n",
    "        loan = json.load(f)\n",
    "    \n",
    "    cumulativeInterest = 0\n",
    "    startPeriod = datetime.strptime(start, '%d.%m.%Y')\n",
    "    endPeriod = datetime.strptime(end, '%d.%m.%Y')\n",
    "    \n",
    "    for month in range(len(loan)):\n",
    "        paymentDate = datetime.strptime(loan[month]['paymentDate'], '%d.%m.%Y')\n",
    "        if paymentDate >= startPeriod and paymentDate < endPeriod:\n",
    "            paymentDate2 = datetime.strptime(loan[month + 1]['paymentDate'], '%d.%m.%Y')\n",
    "            period = (paymentDate2 - paymentDate).days\n",
    "            interestPaid = loan[month]['loanDebt'] * percent / 100 / 365 * period\n",
    "            cumulativeInterest += interestPaid\n",
    "    \n",
    "    return round(cumulativeInterest, 2)"
   ]
  },
  {
   "cell_type": "markdown",
   "id": "fd197843",
   "metadata": {},
   "source": [
    "let's calculate an example"
   ]
  },
  {
   "cell_type": "code",
   "execution_count": 114,
   "id": "beec2a84",
   "metadata": {},
   "outputs": [
    {
     "data": {
      "text/plain": [
       "3649.32"
      ]
     },
     "execution_count": 114,
     "metadata": {},
     "output_type": "execute_result"
    }
   ],
   "source": [
    "interest_calculation('loan_parameters.json', 12, '10.01.2021', '10.05.2021')"
   ]
  }
 ],
 "metadata": {
  "kernelspec": {
   "display_name": "Python 3",
   "language": "python",
   "name": "python3"
  },
  "language_info": {
   "codemirror_mode": {
    "name": "ipython",
    "version": 3
   },
   "file_extension": ".py",
   "mimetype": "text/x-python",
   "name": "python",
   "nbconvert_exporter": "python",
   "pygments_lexer": "ipython3",
   "version": "3.8.8"
  }
 },
 "nbformat": 4,
 "nbformat_minor": 5
}
